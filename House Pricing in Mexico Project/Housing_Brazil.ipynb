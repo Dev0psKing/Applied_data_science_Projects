{
 "cells": [
  {
   "metadata": {
    "ExecuteTime": {
     "end_time": "2025-08-04T02:31:42.137152Z",
     "start_time": "2025-08-04T02:31:31.884955Z"
    }
   },
   "cell_type": "code",
   "source": [
    "import pandas as pd\n",
    "import matplotlib.pyplot as plt\n"
   ],
   "id": "49c2c1c81893b3a9",
   "outputs": [],
   "execution_count": 2
  },
  {
   "metadata": {
    "ExecuteTime": {
     "end_time": "2025-08-04T02:38:16.522085Z",
     "start_time": "2025-08-04T02:38:15.374053Z"
    }
   },
   "cell_type": "code",
   "source": [
    "# Full path to the CSV\n",
    "file_path = '/home/uwabor/Downloads/brasil-real-estate-1.csv'\n",
    "\n",
    "# Read the file\n",
    "df = pd.read_csv(file_path)\n",
    "# View the first few rows\n",
    "df.head()"
   ],
   "id": "f8fdf6a41a6d329e",
   "outputs": [
    {
     "data": {
      "text/plain": [
       "  property_type  place_with_parent_names     region                 lat-lon  \\\n",
       "0     apartment  |Brasil|Alagoas|Maceió|  Northeast  -9.6443051,-35.7088142   \n",
       "1     apartment  |Brasil|Alagoas|Maceió|  Northeast    -9.6430934,-35.70484   \n",
       "2         house  |Brasil|Alagoas|Maceió|  Northeast  -9.6227033,-35.7297953   \n",
       "3     apartment  |Brasil|Alagoas|Maceió|  Northeast    -9.622837,-35.719556   \n",
       "4     apartment  |Brasil|Alagoas|Maceió|  Northeast    -9.654955,-35.700227   \n",
       "\n",
       "   area_m2    price_usd  \n",
       "0    110.0  $187,230.85  \n",
       "1     65.0   $81,133.37  \n",
       "2    211.0  $154,465.45  \n",
       "3     99.0  $146,013.20  \n",
       "4     55.0  $101,416.71  "
      ],
      "text/html": [
       "<div>\n",
       "<style scoped>\n",
       "    .dataframe tbody tr th:only-of-type {\n",
       "        vertical-align: middle;\n",
       "    }\n",
       "\n",
       "    .dataframe tbody tr th {\n",
       "        vertical-align: top;\n",
       "    }\n",
       "\n",
       "    .dataframe thead th {\n",
       "        text-align: right;\n",
       "    }\n",
       "</style>\n",
       "<table border=\"1\" class=\"dataframe\">\n",
       "  <thead>\n",
       "    <tr style=\"text-align: right;\">\n",
       "      <th></th>\n",
       "      <th>property_type</th>\n",
       "      <th>place_with_parent_names</th>\n",
       "      <th>region</th>\n",
       "      <th>lat-lon</th>\n",
       "      <th>area_m2</th>\n",
       "      <th>price_usd</th>\n",
       "    </tr>\n",
       "  </thead>\n",
       "  <tbody>\n",
       "    <tr>\n",
       "      <th>0</th>\n",
       "      <td>apartment</td>\n",
       "      <td>|Brasil|Alagoas|Maceió|</td>\n",
       "      <td>Northeast</td>\n",
       "      <td>-9.6443051,-35.7088142</td>\n",
       "      <td>110.0</td>\n",
       "      <td>$187,230.85</td>\n",
       "    </tr>\n",
       "    <tr>\n",
       "      <th>1</th>\n",
       "      <td>apartment</td>\n",
       "      <td>|Brasil|Alagoas|Maceió|</td>\n",
       "      <td>Northeast</td>\n",
       "      <td>-9.6430934,-35.70484</td>\n",
       "      <td>65.0</td>\n",
       "      <td>$81,133.37</td>\n",
       "    </tr>\n",
       "    <tr>\n",
       "      <th>2</th>\n",
       "      <td>house</td>\n",
       "      <td>|Brasil|Alagoas|Maceió|</td>\n",
       "      <td>Northeast</td>\n",
       "      <td>-9.6227033,-35.7297953</td>\n",
       "      <td>211.0</td>\n",
       "      <td>$154,465.45</td>\n",
       "    </tr>\n",
       "    <tr>\n",
       "      <th>3</th>\n",
       "      <td>apartment</td>\n",
       "      <td>|Brasil|Alagoas|Maceió|</td>\n",
       "      <td>Northeast</td>\n",
       "      <td>-9.622837,-35.719556</td>\n",
       "      <td>99.0</td>\n",
       "      <td>$146,013.20</td>\n",
       "    </tr>\n",
       "    <tr>\n",
       "      <th>4</th>\n",
       "      <td>apartment</td>\n",
       "      <td>|Brasil|Alagoas|Maceió|</td>\n",
       "      <td>Northeast</td>\n",
       "      <td>-9.654955,-35.700227</td>\n",
       "      <td>55.0</td>\n",
       "      <td>$101,416.71</td>\n",
       "    </tr>\n",
       "  </tbody>\n",
       "</table>\n",
       "</div>"
      ]
     },
     "execution_count": 4,
     "metadata": {},
     "output_type": "execute_result"
    }
   ],
   "execution_count": 4
  },
  {
   "metadata": {
    "ExecuteTime": {
     "end_time": "2025-08-04T01:40:28.461930Z",
     "start_time": "2025-08-04T01:40:28.375757Z"
    }
   },
   "cell_type": "code",
   "source": "",
   "id": "623d908fecf16a69",
   "outputs": [
    {
     "data": {
      "text/plain": [
       "  property_type       state     region       lat        lon  area_m2  \\\n",
       "0     apartment  Pernambuco  Northeast -8.134204 -34.906326     72.0   \n",
       "1     apartment  Pernambuco  Northeast -8.126664 -34.903924    136.0   \n",
       "2     apartment  Pernambuco  Northeast -8.125550 -34.907601     75.0   \n",
       "3     apartment  Pernambuco  Northeast -8.120249 -34.895920    187.0   \n",
       "4     apartment  Pernambuco  Northeast -8.142666 -34.906906     80.0   \n",
       "\n",
       "   price_brl  \n",
       "0  414222.98  \n",
       "1  848408.53  \n",
       "2  299438.28  \n",
       "3  848408.53  \n",
       "4  464129.36  "
      ],
      "text/html": [
       "<div>\n",
       "<style scoped>\n",
       "    .dataframe tbody tr th:only-of-type {\n",
       "        vertical-align: middle;\n",
       "    }\n",
       "\n",
       "    .dataframe tbody tr th {\n",
       "        vertical-align: top;\n",
       "    }\n",
       "\n",
       "    .dataframe thead th {\n",
       "        text-align: right;\n",
       "    }\n",
       "</style>\n",
       "<table border=\"1\" class=\"dataframe\">\n",
       "  <thead>\n",
       "    <tr style=\"text-align: right;\">\n",
       "      <th></th>\n",
       "      <th>property_type</th>\n",
       "      <th>state</th>\n",
       "      <th>region</th>\n",
       "      <th>lat</th>\n",
       "      <th>lon</th>\n",
       "      <th>area_m2</th>\n",
       "      <th>price_brl</th>\n",
       "    </tr>\n",
       "  </thead>\n",
       "  <tbody>\n",
       "    <tr>\n",
       "      <th>0</th>\n",
       "      <td>apartment</td>\n",
       "      <td>Pernambuco</td>\n",
       "      <td>Northeast</td>\n",
       "      <td>-8.134204</td>\n",
       "      <td>-34.906326</td>\n",
       "      <td>72.0</td>\n",
       "      <td>414222.98</td>\n",
       "    </tr>\n",
       "    <tr>\n",
       "      <th>1</th>\n",
       "      <td>apartment</td>\n",
       "      <td>Pernambuco</td>\n",
       "      <td>Northeast</td>\n",
       "      <td>-8.126664</td>\n",
       "      <td>-34.903924</td>\n",
       "      <td>136.0</td>\n",
       "      <td>848408.53</td>\n",
       "    </tr>\n",
       "    <tr>\n",
       "      <th>2</th>\n",
       "      <td>apartment</td>\n",
       "      <td>Pernambuco</td>\n",
       "      <td>Northeast</td>\n",
       "      <td>-8.125550</td>\n",
       "      <td>-34.907601</td>\n",
       "      <td>75.0</td>\n",
       "      <td>299438.28</td>\n",
       "    </tr>\n",
       "    <tr>\n",
       "      <th>3</th>\n",
       "      <td>apartment</td>\n",
       "      <td>Pernambuco</td>\n",
       "      <td>Northeast</td>\n",
       "      <td>-8.120249</td>\n",
       "      <td>-34.895920</td>\n",
       "      <td>187.0</td>\n",
       "      <td>848408.53</td>\n",
       "    </tr>\n",
       "    <tr>\n",
       "      <th>4</th>\n",
       "      <td>apartment</td>\n",
       "      <td>Pernambuco</td>\n",
       "      <td>Northeast</td>\n",
       "      <td>-8.142666</td>\n",
       "      <td>-34.906906</td>\n",
       "      <td>80.0</td>\n",
       "      <td>464129.36</td>\n",
       "    </tr>\n",
       "  </tbody>\n",
       "</table>\n",
       "</div>"
      ]
     },
     "execution_count": 7,
     "metadata": {},
     "output_type": "execute_result"
    }
   ],
   "execution_count": 7
  },
  {
   "metadata": {},
   "cell_type": "code",
   "outputs": [],
   "execution_count": null,
   "source": "",
   "id": "74a3555a6c47aad3"
  }
 ],
 "metadata": {
  "kernelspec": {
   "display_name": "Python 3",
   "language": "python",
   "name": "python3"
  },
  "language_info": {
   "codemirror_mode": {
    "name": "ipython",
    "version": 2
   },
   "file_extension": ".py",
   "mimetype": "text/x-python",
   "name": "python",
   "nbconvert_exporter": "python",
   "pygments_lexer": "ipython2",
   "version": "2.7.6"
  }
 },
 "nbformat": 4,
 "nbformat_minor": 5
}
