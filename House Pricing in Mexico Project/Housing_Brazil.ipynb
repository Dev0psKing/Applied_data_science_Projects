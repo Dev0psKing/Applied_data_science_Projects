{
 "cells": [
  {
   "metadata": {
    "ExecuteTime": {
     "end_time": "2025-08-04T01:04:30.037174Z",
     "start_time": "2025-08-04T01:04:14.427373Z"
    }
   },
   "cell_type": "code",
   "source": [
    "import pandas as pd\n",
    "import matplotlib.pyplot as plt\n"
   ],
   "id": "49c2c1c81893b3a9",
   "outputs": [],
   "execution_count": 2
  },
  {
   "metadata": {
    "ExecuteTime": {
     "end_time": "2025-08-04T01:04:34.608144Z",
     "start_time": "2025-08-04T01:04:33.850302Z"
    }
   },
   "cell_type": "code",
   "source": [
    "# Full path to the CSV\n",
    "file_path = '/home/uwabor/Downloads/housing_brazil_1.csv'\n",
    "\n",
    "# Read the file\n",
    "df = pd.read_csv(file_path)\n",
    "# View the first few rows\n",
    "df.head()"
   ],
   "id": "f8fdf6a41a6d329e",
   "outputs": [
    {
     "name": "stdout",
     "output_type": "stream",
     "text": [
      "<class 'pandas.core.frame.DataFrame'>\n",
      "RangeIndex: 12833 entries, 0 to 12832\n",
      "Data columns (total 7 columns):\n",
      " #   Column         Non-Null Count  Dtype  \n",
      "---  ------         --------------  -----  \n",
      " 0   property_type  12833 non-null  object \n",
      " 1   state          12833 non-null  object \n",
      " 2   region         12833 non-null  object \n",
      " 3   lat            12833 non-null  float64\n",
      " 4   lon            12833 non-null  float64\n",
      " 5   area_m2        11293 non-null  float64\n",
      " 6   price_brl      12833 non-null  float64\n",
      "dtypes: float64(4), object(3)\n",
      "memory usage: 701.9+ KB\n"
     ]
    }
   ],
   "execution_count": 3
  },
  {
   "metadata": {},
   "cell_type": "code",
   "outputs": [],
   "execution_count": null,
   "source": "",
   "id": "623d908fecf16a69"
  }
 ],
 "metadata": {
  "kernelspec": {
   "display_name": "Python 3",
   "language": "python",
   "name": "python3"
  },
  "language_info": {
   "codemirror_mode": {
    "name": "ipython",
    "version": 2
   },
   "file_extension": ".py",
   "mimetype": "text/x-python",
   "name": "python",
   "nbconvert_exporter": "python",
   "pygments_lexer": "ipython2",
   "version": "2.7.6"
  }
 },
 "nbformat": 4,
 "nbformat_minor": 5
}
