{
 "cells": [
  {
   "metadata": {
    "ExecuteTime": {
     "end_time": "2025-08-18T15:28:18.041133Z",
     "start_time": "2025-08-18T15:28:13.882132Z"
    }
   },
   "cell_type": "code",
   "source": [
    "import pandas as pd\n",
    "import matplotlib.pyplot as plt\n",
    "import plotly.express as px"
   ],
   "id": "49c2c1c81893b3a9",
   "outputs": [],
   "execution_count": 1
  },
  {
   "metadata": {
    "ExecuteTime": {
     "end_time": "2025-08-18T15:28:24.399762Z",
     "start_time": "2025-08-18T15:28:24.007674Z"
    }
   },
   "cell_type": "code",
   "source": [
    "    # Full path to the CSV\n",
    "file_path = '/home/uwabor/Downloads/brasil-real-estate-1.csv'\n",
    "\n",
    "# Read the file\n",
    "df1 = pd.read_csv(file_path)\n",
    "# View the first few rows\n",
    "df1.head()"
   ],
   "id": "f8fdf6a41a6d329e",
   "outputs": [
    {
     "data": {
      "text/plain": [
       "  property_type  place_with_parent_names     region                 lat-lon  \\\n",
       "0     apartment  |Brasil|Alagoas|Maceió|  Northeast  -9.6443051,-35.7088142   \n",
       "1     apartment  |Brasil|Alagoas|Maceió|  Northeast    -9.6430934,-35.70484   \n",
       "2         house  |Brasil|Alagoas|Maceió|  Northeast  -9.6227033,-35.7297953   \n",
       "3     apartment  |Brasil|Alagoas|Maceió|  Northeast    -9.622837,-35.719556   \n",
       "4     apartment  |Brasil|Alagoas|Maceió|  Northeast    -9.654955,-35.700227   \n",
       "\n",
       "   area_m2    price_usd  \n",
       "0    110.0  $187,230.85  \n",
       "1     65.0   $81,133.37  \n",
       "2    211.0  $154,465.45  \n",
       "3     99.0  $146,013.20  \n",
       "4     55.0  $101,416.71  "
      ],
      "text/html": [
       "<div>\n",
       "<style scoped>\n",
       "    .dataframe tbody tr th:only-of-type {\n",
       "        vertical-align: middle;\n",
       "    }\n",
       "\n",
       "    .dataframe tbody tr th {\n",
       "        vertical-align: top;\n",
       "    }\n",
       "\n",
       "    .dataframe thead th {\n",
       "        text-align: right;\n",
       "    }\n",
       "</style>\n",
       "<table border=\"1\" class=\"dataframe\">\n",
       "  <thead>\n",
       "    <tr style=\"text-align: right;\">\n",
       "      <th></th>\n",
       "      <th>property_type</th>\n",
       "      <th>place_with_parent_names</th>\n",
       "      <th>region</th>\n",
       "      <th>lat-lon</th>\n",
       "      <th>area_m2</th>\n",
       "      <th>price_usd</th>\n",
       "    </tr>\n",
       "  </thead>\n",
       "  <tbody>\n",
       "    <tr>\n",
       "      <th>0</th>\n",
       "      <td>apartment</td>\n",
       "      <td>|Brasil|Alagoas|Maceió|</td>\n",
       "      <td>Northeast</td>\n",
       "      <td>-9.6443051,-35.7088142</td>\n",
       "      <td>110.0</td>\n",
       "      <td>$187,230.85</td>\n",
       "    </tr>\n",
       "    <tr>\n",
       "      <th>1</th>\n",
       "      <td>apartment</td>\n",
       "      <td>|Brasil|Alagoas|Maceió|</td>\n",
       "      <td>Northeast</td>\n",
       "      <td>-9.6430934,-35.70484</td>\n",
       "      <td>65.0</td>\n",
       "      <td>$81,133.37</td>\n",
       "    </tr>\n",
       "    <tr>\n",
       "      <th>2</th>\n",
       "      <td>house</td>\n",
       "      <td>|Brasil|Alagoas|Maceió|</td>\n",
       "      <td>Northeast</td>\n",
       "      <td>-9.6227033,-35.7297953</td>\n",
       "      <td>211.0</td>\n",
       "      <td>$154,465.45</td>\n",
       "    </tr>\n",
       "    <tr>\n",
       "      <th>3</th>\n",
       "      <td>apartment</td>\n",
       "      <td>|Brasil|Alagoas|Maceió|</td>\n",
       "      <td>Northeast</td>\n",
       "      <td>-9.622837,-35.719556</td>\n",
       "      <td>99.0</td>\n",
       "      <td>$146,013.20</td>\n",
       "    </tr>\n",
       "    <tr>\n",
       "      <th>4</th>\n",
       "      <td>apartment</td>\n",
       "      <td>|Brasil|Alagoas|Maceió|</td>\n",
       "      <td>Northeast</td>\n",
       "      <td>-9.654955,-35.700227</td>\n",
       "      <td>55.0</td>\n",
       "      <td>$101,416.71</td>\n",
       "    </tr>\n",
       "  </tbody>\n",
       "</table>\n",
       "</div>"
      ]
     },
     "execution_count": 2,
     "metadata": {},
     "output_type": "execute_result"
    }
   ],
   "execution_count": 2
  },
  {
   "metadata": {
    "ExecuteTime": {
     "end_time": "2025-08-18T15:28:47.715667Z",
     "start_time": "2025-08-18T15:28:47.635879Z"
    }
   },
   "cell_type": "code",
   "source": [
    "# removing all NAN rows from DF1\n",
    "df1 = df1.dropna()\n",
    "df1.head()"
   ],
   "id": "623d908fecf16a69",
   "outputs": [
    {
     "data": {
      "text/plain": [
       "  property_type  place_with_parent_names     region                 lat-lon  \\\n",
       "0     apartment  |Brasil|Alagoas|Maceió|  Northeast  -9.6443051,-35.7088142   \n",
       "1     apartment  |Brasil|Alagoas|Maceió|  Northeast    -9.6430934,-35.70484   \n",
       "2         house  |Brasil|Alagoas|Maceió|  Northeast  -9.6227033,-35.7297953   \n",
       "3     apartment  |Brasil|Alagoas|Maceió|  Northeast    -9.622837,-35.719556   \n",
       "4     apartment  |Brasil|Alagoas|Maceió|  Northeast    -9.654955,-35.700227   \n",
       "\n",
       "   area_m2    price_usd  \n",
       "0    110.0  $187,230.85  \n",
       "1     65.0   $81,133.37  \n",
       "2    211.0  $154,465.45  \n",
       "3     99.0  $146,013.20  \n",
       "4     55.0  $101,416.71  "
      ],
      "text/html": [
       "<div>\n",
       "<style scoped>\n",
       "    .dataframe tbody tr th:only-of-type {\n",
       "        vertical-align: middle;\n",
       "    }\n",
       "\n",
       "    .dataframe tbody tr th {\n",
       "        vertical-align: top;\n",
       "    }\n",
       "\n",
       "    .dataframe thead th {\n",
       "        text-align: right;\n",
       "    }\n",
       "</style>\n",
       "<table border=\"1\" class=\"dataframe\">\n",
       "  <thead>\n",
       "    <tr style=\"text-align: right;\">\n",
       "      <th></th>\n",
       "      <th>property_type</th>\n",
       "      <th>place_with_parent_names</th>\n",
       "      <th>region</th>\n",
       "      <th>lat-lon</th>\n",
       "      <th>area_m2</th>\n",
       "      <th>price_usd</th>\n",
       "    </tr>\n",
       "  </thead>\n",
       "  <tbody>\n",
       "    <tr>\n",
       "      <th>0</th>\n",
       "      <td>apartment</td>\n",
       "      <td>|Brasil|Alagoas|Maceió|</td>\n",
       "      <td>Northeast</td>\n",
       "      <td>-9.6443051,-35.7088142</td>\n",
       "      <td>110.0</td>\n",
       "      <td>$187,230.85</td>\n",
       "    </tr>\n",
       "    <tr>\n",
       "      <th>1</th>\n",
       "      <td>apartment</td>\n",
       "      <td>|Brasil|Alagoas|Maceió|</td>\n",
       "      <td>Northeast</td>\n",
       "      <td>-9.6430934,-35.70484</td>\n",
       "      <td>65.0</td>\n",
       "      <td>$81,133.37</td>\n",
       "    </tr>\n",
       "    <tr>\n",
       "      <th>2</th>\n",
       "      <td>house</td>\n",
       "      <td>|Brasil|Alagoas|Maceió|</td>\n",
       "      <td>Northeast</td>\n",
       "      <td>-9.6227033,-35.7297953</td>\n",
       "      <td>211.0</td>\n",
       "      <td>$154,465.45</td>\n",
       "    </tr>\n",
       "    <tr>\n",
       "      <th>3</th>\n",
       "      <td>apartment</td>\n",
       "      <td>|Brasil|Alagoas|Maceió|</td>\n",
       "      <td>Northeast</td>\n",
       "      <td>-9.622837,-35.719556</td>\n",
       "      <td>99.0</td>\n",
       "      <td>$146,013.20</td>\n",
       "    </tr>\n",
       "    <tr>\n",
       "      <th>4</th>\n",
       "      <td>apartment</td>\n",
       "      <td>|Brasil|Alagoas|Maceió|</td>\n",
       "      <td>Northeast</td>\n",
       "      <td>-9.654955,-35.700227</td>\n",
       "      <td>55.0</td>\n",
       "      <td>$101,416.71</td>\n",
       "    </tr>\n",
       "  </tbody>\n",
       "</table>\n",
       "</div>"
      ]
     },
     "execution_count": 3,
     "metadata": {},
     "output_type": "execute_result"
    }
   ],
   "execution_count": 3
  },
  {
   "metadata": {
    "ExecuteTime": {
     "end_time": "2025-08-18T15:28:51.848516Z",
     "start_time": "2025-08-18T15:28:51.803678Z"
    }
   },
   "cell_type": "code",
   "source": [
    "# Using the Lat-lon to create different columns\n",
    "\n",
    "df1[[\"lat\", \"lon\"]] = df1[\"lat-lon\"].str.split(',', expand=True).astype(float)\n",
    "df1.head()"
   ],
   "id": "74a3555a6c47aad3",
   "outputs": [
    {
     "data": {
      "text/plain": [
       "  property_type  place_with_parent_names     region                 lat-lon  \\\n",
       "0     apartment  |Brasil|Alagoas|Maceió|  Northeast  -9.6443051,-35.7088142   \n",
       "1     apartment  |Brasil|Alagoas|Maceió|  Northeast    -9.6430934,-35.70484   \n",
       "2         house  |Brasil|Alagoas|Maceió|  Northeast  -9.6227033,-35.7297953   \n",
       "3     apartment  |Brasil|Alagoas|Maceió|  Northeast    -9.622837,-35.719556   \n",
       "4     apartment  |Brasil|Alagoas|Maceió|  Northeast    -9.654955,-35.700227   \n",
       "\n",
       "   area_m2    price_usd       lat        lon  \n",
       "0    110.0  $187,230.85 -9.644305 -35.708814  \n",
       "1     65.0   $81,133.37 -9.643093 -35.704840  \n",
       "2    211.0  $154,465.45 -9.622703 -35.729795  \n",
       "3     99.0  $146,013.20 -9.622837 -35.719556  \n",
       "4     55.0  $101,416.71 -9.654955 -35.700227  "
      ],
      "text/html": [
       "<div>\n",
       "<style scoped>\n",
       "    .dataframe tbody tr th:only-of-type {\n",
       "        vertical-align: middle;\n",
       "    }\n",
       "\n",
       "    .dataframe tbody tr th {\n",
       "        vertical-align: top;\n",
       "    }\n",
       "\n",
       "    .dataframe thead th {\n",
       "        text-align: right;\n",
       "    }\n",
       "</style>\n",
       "<table border=\"1\" class=\"dataframe\">\n",
       "  <thead>\n",
       "    <tr style=\"text-align: right;\">\n",
       "      <th></th>\n",
       "      <th>property_type</th>\n",
       "      <th>place_with_parent_names</th>\n",
       "      <th>region</th>\n",
       "      <th>lat-lon</th>\n",
       "      <th>area_m2</th>\n",
       "      <th>price_usd</th>\n",
       "      <th>lat</th>\n",
       "      <th>lon</th>\n",
       "    </tr>\n",
       "  </thead>\n",
       "  <tbody>\n",
       "    <tr>\n",
       "      <th>0</th>\n",
       "      <td>apartment</td>\n",
       "      <td>|Brasil|Alagoas|Maceió|</td>\n",
       "      <td>Northeast</td>\n",
       "      <td>-9.6443051,-35.7088142</td>\n",
       "      <td>110.0</td>\n",
       "      <td>$187,230.85</td>\n",
       "      <td>-9.644305</td>\n",
       "      <td>-35.708814</td>\n",
       "    </tr>\n",
       "    <tr>\n",
       "      <th>1</th>\n",
       "      <td>apartment</td>\n",
       "      <td>|Brasil|Alagoas|Maceió|</td>\n",
       "      <td>Northeast</td>\n",
       "      <td>-9.6430934,-35.70484</td>\n",
       "      <td>65.0</td>\n",
       "      <td>$81,133.37</td>\n",
       "      <td>-9.643093</td>\n",
       "      <td>-35.704840</td>\n",
       "    </tr>\n",
       "    <tr>\n",
       "      <th>2</th>\n",
       "      <td>house</td>\n",
       "      <td>|Brasil|Alagoas|Maceió|</td>\n",
       "      <td>Northeast</td>\n",
       "      <td>-9.6227033,-35.7297953</td>\n",
       "      <td>211.0</td>\n",
       "      <td>$154,465.45</td>\n",
       "      <td>-9.622703</td>\n",
       "      <td>-35.729795</td>\n",
       "    </tr>\n",
       "    <tr>\n",
       "      <th>3</th>\n",
       "      <td>apartment</td>\n",
       "      <td>|Brasil|Alagoas|Maceió|</td>\n",
       "      <td>Northeast</td>\n",
       "      <td>-9.622837,-35.719556</td>\n",
       "      <td>99.0</td>\n",
       "      <td>$146,013.20</td>\n",
       "      <td>-9.622837</td>\n",
       "      <td>-35.719556</td>\n",
       "    </tr>\n",
       "    <tr>\n",
       "      <th>4</th>\n",
       "      <td>apartment</td>\n",
       "      <td>|Brasil|Alagoas|Maceió|</td>\n",
       "      <td>Northeast</td>\n",
       "      <td>-9.654955,-35.700227</td>\n",
       "      <td>55.0</td>\n",
       "      <td>$101,416.71</td>\n",
       "      <td>-9.654955</td>\n",
       "      <td>-35.700227</td>\n",
       "    </tr>\n",
       "  </tbody>\n",
       "</table>\n",
       "</div>"
      ]
     },
     "execution_count": 4,
     "metadata": {},
     "output_type": "execute_result"
    }
   ],
   "execution_count": 4
  },
  {
   "metadata": {
    "ExecuteTime": {
     "end_time": "2025-08-15T10:53:16.623470Z",
     "start_time": "2025-08-15T10:53:16.537582Z"
    }
   },
   "cell_type": "code",
   "source": [
    "# create state column from place_with_parent_names\n",
    "df1[\"state\"] = df1[\"place_with_parent_names\"].str.extract(r'\\|Brasil\\|([^|]+)')\n",
    "df1.head()"
   ],
   "id": "6c68f3dd70aab9c7",
   "outputs": [
    {
     "data": {
      "text/plain": [
       "  property_type  place_with_parent_names     region                 lat-lon  \\\n",
       "0     apartment  |Brasil|Alagoas|Maceió|  Northeast  -9.6443051,-35.7088142   \n",
       "1     apartment  |Brasil|Alagoas|Maceió|  Northeast    -9.6430934,-35.70484   \n",
       "2         house  |Brasil|Alagoas|Maceió|  Northeast  -9.6227033,-35.7297953   \n",
       "3     apartment  |Brasil|Alagoas|Maceió|  Northeast    -9.622837,-35.719556   \n",
       "4     apartment  |Brasil|Alagoas|Maceió|  Northeast    -9.654955,-35.700227   \n",
       "\n",
       "   area_m2    price_usd       lat        lon    state  \n",
       "0    110.0  $187,230.85 -9.644305 -35.708814  Alagoas  \n",
       "1     65.0   $81,133.37 -9.643093 -35.704840  Alagoas  \n",
       "2    211.0  $154,465.45 -9.622703 -35.729795  Alagoas  \n",
       "3     99.0  $146,013.20 -9.622837 -35.719556  Alagoas  \n",
       "4     55.0  $101,416.71 -9.654955 -35.700227  Alagoas  "
      ],
      "text/html": [
       "<div>\n",
       "<style scoped>\n",
       "    .dataframe tbody tr th:only-of-type {\n",
       "        vertical-align: middle;\n",
       "    }\n",
       "\n",
       "    .dataframe tbody tr th {\n",
       "        vertical-align: top;\n",
       "    }\n",
       "\n",
       "    .dataframe thead th {\n",
       "        text-align: right;\n",
       "    }\n",
       "</style>\n",
       "<table border=\"1\" class=\"dataframe\">\n",
       "  <thead>\n",
       "    <tr style=\"text-align: right;\">\n",
       "      <th></th>\n",
       "      <th>property_type</th>\n",
       "      <th>place_with_parent_names</th>\n",
       "      <th>region</th>\n",
       "      <th>lat-lon</th>\n",
       "      <th>area_m2</th>\n",
       "      <th>price_usd</th>\n",
       "      <th>lat</th>\n",
       "      <th>lon</th>\n",
       "      <th>state</th>\n",
       "    </tr>\n",
       "  </thead>\n",
       "  <tbody>\n",
       "    <tr>\n",
       "      <th>0</th>\n",
       "      <td>apartment</td>\n",
       "      <td>|Brasil|Alagoas|Maceió|</td>\n",
       "      <td>Northeast</td>\n",
       "      <td>-9.6443051,-35.7088142</td>\n",
       "      <td>110.0</td>\n",
       "      <td>$187,230.85</td>\n",
       "      <td>-9.644305</td>\n",
       "      <td>-35.708814</td>\n",
       "      <td>Alagoas</td>\n",
       "    </tr>\n",
       "    <tr>\n",
       "      <th>1</th>\n",
       "      <td>apartment</td>\n",
       "      <td>|Brasil|Alagoas|Maceió|</td>\n",
       "      <td>Northeast</td>\n",
       "      <td>-9.6430934,-35.70484</td>\n",
       "      <td>65.0</td>\n",
       "      <td>$81,133.37</td>\n",
       "      <td>-9.643093</td>\n",
       "      <td>-35.704840</td>\n",
       "      <td>Alagoas</td>\n",
       "    </tr>\n",
       "    <tr>\n",
       "      <th>2</th>\n",
       "      <td>house</td>\n",
       "      <td>|Brasil|Alagoas|Maceió|</td>\n",
       "      <td>Northeast</td>\n",
       "      <td>-9.6227033,-35.7297953</td>\n",
       "      <td>211.0</td>\n",
       "      <td>$154,465.45</td>\n",
       "      <td>-9.622703</td>\n",
       "      <td>-35.729795</td>\n",
       "      <td>Alagoas</td>\n",
       "    </tr>\n",
       "    <tr>\n",
       "      <th>3</th>\n",
       "      <td>apartment</td>\n",
       "      <td>|Brasil|Alagoas|Maceió|</td>\n",
       "      <td>Northeast</td>\n",
       "      <td>-9.622837,-35.719556</td>\n",
       "      <td>99.0</td>\n",
       "      <td>$146,013.20</td>\n",
       "      <td>-9.622837</td>\n",
       "      <td>-35.719556</td>\n",
       "      <td>Alagoas</td>\n",
       "    </tr>\n",
       "    <tr>\n",
       "      <th>4</th>\n",
       "      <td>apartment</td>\n",
       "      <td>|Brasil|Alagoas|Maceió|</td>\n",
       "      <td>Northeast</td>\n",
       "      <td>-9.654955,-35.700227</td>\n",
       "      <td>55.0</td>\n",
       "      <td>$101,416.71</td>\n",
       "      <td>-9.654955</td>\n",
       "      <td>-35.700227</td>\n",
       "      <td>Alagoas</td>\n",
       "    </tr>\n",
       "  </tbody>\n",
       "</table>\n",
       "</div>"
      ]
     },
     "execution_count": 5,
     "metadata": {},
     "output_type": "execute_result"
    }
   ],
   "execution_count": 5
  },
  {
   "metadata": {
    "ExecuteTime": {
     "end_time": "2025-08-18T15:29:04.328747Z",
     "start_time": "2025-08-18T15:29:04.303916Z"
    }
   },
   "cell_type": "code",
   "source": [
    "# converting all price_usd to floats by removing all strings and symbols\n",
    "df1[\"price_usd\"] = df1[\"price_usd\"].astype(str) \\\n",
    "    .str.replace('$', '', regex=False) \\\n",
    "    .str.replace(',', '', regex=False) \\\n",
    "    .astype(float)\n",
    "df1.head()"
   ],
   "id": "5fd2b13c1746802d",
   "outputs": [
    {
     "data": {
      "text/plain": [
       "  property_type  place_with_parent_names     region                 lat-lon  \\\n",
       "0     apartment  |Brasil|Alagoas|Maceió|  Northeast  -9.6443051,-35.7088142   \n",
       "1     apartment  |Brasil|Alagoas|Maceió|  Northeast    -9.6430934,-35.70484   \n",
       "2         house  |Brasil|Alagoas|Maceió|  Northeast  -9.6227033,-35.7297953   \n",
       "3     apartment  |Brasil|Alagoas|Maceió|  Northeast    -9.622837,-35.719556   \n",
       "4     apartment  |Brasil|Alagoas|Maceió|  Northeast    -9.654955,-35.700227   \n",
       "\n",
       "   area_m2  price_usd       lat        lon  \n",
       "0    110.0  187230.85 -9.644305 -35.708814  \n",
       "1     65.0   81133.37 -9.643093 -35.704840  \n",
       "2    211.0  154465.45 -9.622703 -35.729795  \n",
       "3     99.0  146013.20 -9.622837 -35.719556  \n",
       "4     55.0  101416.71 -9.654955 -35.700227  "
      ],
      "text/html": [
       "<div>\n",
       "<style scoped>\n",
       "    .dataframe tbody tr th:only-of-type {\n",
       "        vertical-align: middle;\n",
       "    }\n",
       "\n",
       "    .dataframe tbody tr th {\n",
       "        vertical-align: top;\n",
       "    }\n",
       "\n",
       "    .dataframe thead th {\n",
       "        text-align: right;\n",
       "    }\n",
       "</style>\n",
       "<table border=\"1\" class=\"dataframe\">\n",
       "  <thead>\n",
       "    <tr style=\"text-align: right;\">\n",
       "      <th></th>\n",
       "      <th>property_type</th>\n",
       "      <th>place_with_parent_names</th>\n",
       "      <th>region</th>\n",
       "      <th>lat-lon</th>\n",
       "      <th>area_m2</th>\n",
       "      <th>price_usd</th>\n",
       "      <th>lat</th>\n",
       "      <th>lon</th>\n",
       "    </tr>\n",
       "  </thead>\n",
       "  <tbody>\n",
       "    <tr>\n",
       "      <th>0</th>\n",
       "      <td>apartment</td>\n",
       "      <td>|Brasil|Alagoas|Maceió|</td>\n",
       "      <td>Northeast</td>\n",
       "      <td>-9.6443051,-35.7088142</td>\n",
       "      <td>110.0</td>\n",
       "      <td>187230.85</td>\n",
       "      <td>-9.644305</td>\n",
       "      <td>-35.708814</td>\n",
       "    </tr>\n",
       "    <tr>\n",
       "      <th>1</th>\n",
       "      <td>apartment</td>\n",
       "      <td>|Brasil|Alagoas|Maceió|</td>\n",
       "      <td>Northeast</td>\n",
       "      <td>-9.6430934,-35.70484</td>\n",
       "      <td>65.0</td>\n",
       "      <td>81133.37</td>\n",
       "      <td>-9.643093</td>\n",
       "      <td>-35.704840</td>\n",
       "    </tr>\n",
       "    <tr>\n",
       "      <th>2</th>\n",
       "      <td>house</td>\n",
       "      <td>|Brasil|Alagoas|Maceió|</td>\n",
       "      <td>Northeast</td>\n",
       "      <td>-9.6227033,-35.7297953</td>\n",
       "      <td>211.0</td>\n",
       "      <td>154465.45</td>\n",
       "      <td>-9.622703</td>\n",
       "      <td>-35.729795</td>\n",
       "    </tr>\n",
       "    <tr>\n",
       "      <th>3</th>\n",
       "      <td>apartment</td>\n",
       "      <td>|Brasil|Alagoas|Maceió|</td>\n",
       "      <td>Northeast</td>\n",
       "      <td>-9.622837,-35.719556</td>\n",
       "      <td>99.0</td>\n",
       "      <td>146013.20</td>\n",
       "      <td>-9.622837</td>\n",
       "      <td>-35.719556</td>\n",
       "    </tr>\n",
       "    <tr>\n",
       "      <th>4</th>\n",
       "      <td>apartment</td>\n",
       "      <td>|Brasil|Alagoas|Maceió|</td>\n",
       "      <td>Northeast</td>\n",
       "      <td>-9.654955,-35.700227</td>\n",
       "      <td>55.0</td>\n",
       "      <td>101416.71</td>\n",
       "      <td>-9.654955</td>\n",
       "      <td>-35.700227</td>\n",
       "    </tr>\n",
       "  </tbody>\n",
       "</table>\n",
       "</div>"
      ]
     },
     "execution_count": 5,
     "metadata": {},
     "output_type": "execute_result"
    }
   ],
   "execution_count": 5
  },
  {
   "metadata": {
    "ExecuteTime": {
     "end_time": "2025-08-18T15:29:21.652231Z",
     "start_time": "2025-08-18T15:29:21.637479Z"
    }
   },
   "cell_type": "code",
   "source": [
    "# removing lat-lon and place-with-parent-names from the column\n",
    "df1.drop([\"lat-lon\", \"place_with_parent_names\"], axis=1, inplace=True)\n",
    "df1.head()"
   ],
   "id": "cd4a2db4f5a1a7dc",
   "outputs": [
    {
     "data": {
      "text/plain": [
       "  property_type     region  area_m2  price_usd       lat        lon\n",
       "0     apartment  Northeast    110.0  187230.85 -9.644305 -35.708814\n",
       "1     apartment  Northeast     65.0   81133.37 -9.643093 -35.704840\n",
       "2         house  Northeast    211.0  154465.45 -9.622703 -35.729795\n",
       "3     apartment  Northeast     99.0  146013.20 -9.622837 -35.719556\n",
       "4     apartment  Northeast     55.0  101416.71 -9.654955 -35.700227"
      ],
      "text/html": [
       "<div>\n",
       "<style scoped>\n",
       "    .dataframe tbody tr th:only-of-type {\n",
       "        vertical-align: middle;\n",
       "    }\n",
       "\n",
       "    .dataframe tbody tr th {\n",
       "        vertical-align: top;\n",
       "    }\n",
       "\n",
       "    .dataframe thead th {\n",
       "        text-align: right;\n",
       "    }\n",
       "</style>\n",
       "<table border=\"1\" class=\"dataframe\">\n",
       "  <thead>\n",
       "    <tr style=\"text-align: right;\">\n",
       "      <th></th>\n",
       "      <th>property_type</th>\n",
       "      <th>region</th>\n",
       "      <th>area_m2</th>\n",
       "      <th>price_usd</th>\n",
       "      <th>lat</th>\n",
       "      <th>lon</th>\n",
       "    </tr>\n",
       "  </thead>\n",
       "  <tbody>\n",
       "    <tr>\n",
       "      <th>0</th>\n",
       "      <td>apartment</td>\n",
       "      <td>Northeast</td>\n",
       "      <td>110.0</td>\n",
       "      <td>187230.85</td>\n",
       "      <td>-9.644305</td>\n",
       "      <td>-35.708814</td>\n",
       "    </tr>\n",
       "    <tr>\n",
       "      <th>1</th>\n",
       "      <td>apartment</td>\n",
       "      <td>Northeast</td>\n",
       "      <td>65.0</td>\n",
       "      <td>81133.37</td>\n",
       "      <td>-9.643093</td>\n",
       "      <td>-35.704840</td>\n",
       "    </tr>\n",
       "    <tr>\n",
       "      <th>2</th>\n",
       "      <td>house</td>\n",
       "      <td>Northeast</td>\n",
       "      <td>211.0</td>\n",
       "      <td>154465.45</td>\n",
       "      <td>-9.622703</td>\n",
       "      <td>-35.729795</td>\n",
       "    </tr>\n",
       "    <tr>\n",
       "      <th>3</th>\n",
       "      <td>apartment</td>\n",
       "      <td>Northeast</td>\n",
       "      <td>99.0</td>\n",
       "      <td>146013.20</td>\n",
       "      <td>-9.622837</td>\n",
       "      <td>-35.719556</td>\n",
       "    </tr>\n",
       "    <tr>\n",
       "      <th>4</th>\n",
       "      <td>apartment</td>\n",
       "      <td>Northeast</td>\n",
       "      <td>55.0</td>\n",
       "      <td>101416.71</td>\n",
       "      <td>-9.654955</td>\n",
       "      <td>-35.700227</td>\n",
       "    </tr>\n",
       "  </tbody>\n",
       "</table>\n",
       "</div>"
      ]
     },
     "execution_count": 6,
     "metadata": {},
     "output_type": "execute_result"
    }
   ],
   "execution_count": 6
  },
  {
   "metadata": {
    "ExecuteTime": {
     "end_time": "2025-08-18T15:29:25.906961Z",
     "start_time": "2025-08-18T15:29:25.803847Z"
    }
   },
   "cell_type": "code",
   "source": [
    "# Accessing the CSV file from Computer\n",
    "file_path = '/home/uwabor/Downloads/brasil-real-estate-2.csv'\n",
    "\n",
    "# Read the file\n",
    "df2 = pd.read_csv(file_path)\n",
    "# View the first few rows\n",
    "df2.head()"
   ],
   "id": "59a7bc94f31af397",
   "outputs": [
    {
     "data": {
      "text/plain": [
       "  property_type       state     region       lat        lon  area_m2  \\\n",
       "0     apartment  Pernambuco  Northeast -8.134204 -34.906326     72.0   \n",
       "1     apartment  Pernambuco  Northeast -8.126664 -34.903924    136.0   \n",
       "2     apartment  Pernambuco  Northeast -8.125550 -34.907601     75.0   \n",
       "3     apartment  Pernambuco  Northeast -8.120249 -34.895920    187.0   \n",
       "4     apartment  Pernambuco  Northeast -8.142666 -34.906906     80.0   \n",
       "\n",
       "   price_brl  \n",
       "0  414222.98  \n",
       "1  848408.53  \n",
       "2  299438.28  \n",
       "3  848408.53  \n",
       "4  464129.36  "
      ],
      "text/html": [
       "<div>\n",
       "<style scoped>\n",
       "    .dataframe tbody tr th:only-of-type {\n",
       "        vertical-align: middle;\n",
       "    }\n",
       "\n",
       "    .dataframe tbody tr th {\n",
       "        vertical-align: top;\n",
       "    }\n",
       "\n",
       "    .dataframe thead th {\n",
       "        text-align: right;\n",
       "    }\n",
       "</style>\n",
       "<table border=\"1\" class=\"dataframe\">\n",
       "  <thead>\n",
       "    <tr style=\"text-align: right;\">\n",
       "      <th></th>\n",
       "      <th>property_type</th>\n",
       "      <th>state</th>\n",
       "      <th>region</th>\n",
       "      <th>lat</th>\n",
       "      <th>lon</th>\n",
       "      <th>area_m2</th>\n",
       "      <th>price_brl</th>\n",
       "    </tr>\n",
       "  </thead>\n",
       "  <tbody>\n",
       "    <tr>\n",
       "      <th>0</th>\n",
       "      <td>apartment</td>\n",
       "      <td>Pernambuco</td>\n",
       "      <td>Northeast</td>\n",
       "      <td>-8.134204</td>\n",
       "      <td>-34.906326</td>\n",
       "      <td>72.0</td>\n",
       "      <td>414222.98</td>\n",
       "    </tr>\n",
       "    <tr>\n",
       "      <th>1</th>\n",
       "      <td>apartment</td>\n",
       "      <td>Pernambuco</td>\n",
       "      <td>Northeast</td>\n",
       "      <td>-8.126664</td>\n",
       "      <td>-34.903924</td>\n",
       "      <td>136.0</td>\n",
       "      <td>848408.53</td>\n",
       "    </tr>\n",
       "    <tr>\n",
       "      <th>2</th>\n",
       "      <td>apartment</td>\n",
       "      <td>Pernambuco</td>\n",
       "      <td>Northeast</td>\n",
       "      <td>-8.125550</td>\n",
       "      <td>-34.907601</td>\n",
       "      <td>75.0</td>\n",
       "      <td>299438.28</td>\n",
       "    </tr>\n",
       "    <tr>\n",
       "      <th>3</th>\n",
       "      <td>apartment</td>\n",
       "      <td>Pernambuco</td>\n",
       "      <td>Northeast</td>\n",
       "      <td>-8.120249</td>\n",
       "      <td>-34.895920</td>\n",
       "      <td>187.0</td>\n",
       "      <td>848408.53</td>\n",
       "    </tr>\n",
       "    <tr>\n",
       "      <th>4</th>\n",
       "      <td>apartment</td>\n",
       "      <td>Pernambuco</td>\n",
       "      <td>Northeast</td>\n",
       "      <td>-8.142666</td>\n",
       "      <td>-34.906906</td>\n",
       "      <td>80.0</td>\n",
       "      <td>464129.36</td>\n",
       "    </tr>\n",
       "  </tbody>\n",
       "</table>\n",
       "</div>"
      ]
     },
     "execution_count": 7,
     "metadata": {},
     "output_type": "execute_result"
    }
   ],
   "execution_count": 7
  },
  {
   "metadata": {
    "ExecuteTime": {
     "end_time": "2025-08-18T15:29:29.115077Z",
     "start_time": "2025-08-18T15:29:29.099916Z"
    }
   },
   "cell_type": "code",
   "source": [
    "exchange_rate = 3.19 # 1USD = 3.19 BRL\n",
    "\n",
    "# create a new column \"price_usd\"\n",
    "df2[\"price_usd\"] = (df2[\"price_brl\"] / [exchange_rate]).round(2)\n",
    "df2.head()"
   ],
   "id": "73ed71e30005491a",
   "outputs": [
    {
     "data": {
      "text/plain": [
       "  property_type       state     region       lat        lon  area_m2  \\\n",
       "0     apartment  Pernambuco  Northeast -8.134204 -34.906326     72.0   \n",
       "1     apartment  Pernambuco  Northeast -8.126664 -34.903924    136.0   \n",
       "2     apartment  Pernambuco  Northeast -8.125550 -34.907601     75.0   \n",
       "3     apartment  Pernambuco  Northeast -8.120249 -34.895920    187.0   \n",
       "4     apartment  Pernambuco  Northeast -8.142666 -34.906906     80.0   \n",
       "\n",
       "   price_brl  price_usd  \n",
       "0  414222.98  129850.46  \n",
       "1  848408.53  265958.79  \n",
       "2  299438.28   93867.80  \n",
       "3  848408.53  265958.79  \n",
       "4  464129.36  145495.10  "
      ],
      "text/html": [
       "<div>\n",
       "<style scoped>\n",
       "    .dataframe tbody tr th:only-of-type {\n",
       "        vertical-align: middle;\n",
       "    }\n",
       "\n",
       "    .dataframe tbody tr th {\n",
       "        vertical-align: top;\n",
       "    }\n",
       "\n",
       "    .dataframe thead th {\n",
       "        text-align: right;\n",
       "    }\n",
       "</style>\n",
       "<table border=\"1\" class=\"dataframe\">\n",
       "  <thead>\n",
       "    <tr style=\"text-align: right;\">\n",
       "      <th></th>\n",
       "      <th>property_type</th>\n",
       "      <th>state</th>\n",
       "      <th>region</th>\n",
       "      <th>lat</th>\n",
       "      <th>lon</th>\n",
       "      <th>area_m2</th>\n",
       "      <th>price_brl</th>\n",
       "      <th>price_usd</th>\n",
       "    </tr>\n",
       "  </thead>\n",
       "  <tbody>\n",
       "    <tr>\n",
       "      <th>0</th>\n",
       "      <td>apartment</td>\n",
       "      <td>Pernambuco</td>\n",
       "      <td>Northeast</td>\n",
       "      <td>-8.134204</td>\n",
       "      <td>-34.906326</td>\n",
       "      <td>72.0</td>\n",
       "      <td>414222.98</td>\n",
       "      <td>129850.46</td>\n",
       "    </tr>\n",
       "    <tr>\n",
       "      <th>1</th>\n",
       "      <td>apartment</td>\n",
       "      <td>Pernambuco</td>\n",
       "      <td>Northeast</td>\n",
       "      <td>-8.126664</td>\n",
       "      <td>-34.903924</td>\n",
       "      <td>136.0</td>\n",
       "      <td>848408.53</td>\n",
       "      <td>265958.79</td>\n",
       "    </tr>\n",
       "    <tr>\n",
       "      <th>2</th>\n",
       "      <td>apartment</td>\n",
       "      <td>Pernambuco</td>\n",
       "      <td>Northeast</td>\n",
       "      <td>-8.125550</td>\n",
       "      <td>-34.907601</td>\n",
       "      <td>75.0</td>\n",
       "      <td>299438.28</td>\n",
       "      <td>93867.80</td>\n",
       "    </tr>\n",
       "    <tr>\n",
       "      <th>3</th>\n",
       "      <td>apartment</td>\n",
       "      <td>Pernambuco</td>\n",
       "      <td>Northeast</td>\n",
       "      <td>-8.120249</td>\n",
       "      <td>-34.895920</td>\n",
       "      <td>187.0</td>\n",
       "      <td>848408.53</td>\n",
       "      <td>265958.79</td>\n",
       "    </tr>\n",
       "    <tr>\n",
       "      <th>4</th>\n",
       "      <td>apartment</td>\n",
       "      <td>Pernambuco</td>\n",
       "      <td>Northeast</td>\n",
       "      <td>-8.142666</td>\n",
       "      <td>-34.906906</td>\n",
       "      <td>80.0</td>\n",
       "      <td>464129.36</td>\n",
       "      <td>145495.10</td>\n",
       "    </tr>\n",
       "  </tbody>\n",
       "</table>\n",
       "</div>"
      ]
     },
     "execution_count": 8,
     "metadata": {},
     "output_type": "execute_result"
    }
   ],
   "execution_count": 8
  },
  {
   "metadata": {
    "ExecuteTime": {
     "end_time": "2025-08-18T15:29:33.069609Z",
     "start_time": "2025-08-18T15:29:33.046559Z"
    }
   },
   "cell_type": "code",
   "source": [
    "df2.drop(\"price_brl\", axis=1, inplace=True)\n",
    "df2 = df2.dropna()\n",
    "df2.head()"
   ],
   "id": "7722fc251a00ecf0",
   "outputs": [
    {
     "data": {
      "text/plain": [
       "  property_type       state     region       lat        lon  area_m2  \\\n",
       "0     apartment  Pernambuco  Northeast -8.134204 -34.906326     72.0   \n",
       "1     apartment  Pernambuco  Northeast -8.126664 -34.903924    136.0   \n",
       "2     apartment  Pernambuco  Northeast -8.125550 -34.907601     75.0   \n",
       "3     apartment  Pernambuco  Northeast -8.120249 -34.895920    187.0   \n",
       "4     apartment  Pernambuco  Northeast -8.142666 -34.906906     80.0   \n",
       "\n",
       "   price_usd  \n",
       "0  129850.46  \n",
       "1  265958.79  \n",
       "2   93867.80  \n",
       "3  265958.79  \n",
       "4  145495.10  "
      ],
      "text/html": [
       "<div>\n",
       "<style scoped>\n",
       "    .dataframe tbody tr th:only-of-type {\n",
       "        vertical-align: middle;\n",
       "    }\n",
       "\n",
       "    .dataframe tbody tr th {\n",
       "        vertical-align: top;\n",
       "    }\n",
       "\n",
       "    .dataframe thead th {\n",
       "        text-align: right;\n",
       "    }\n",
       "</style>\n",
       "<table border=\"1\" class=\"dataframe\">\n",
       "  <thead>\n",
       "    <tr style=\"text-align: right;\">\n",
       "      <th></th>\n",
       "      <th>property_type</th>\n",
       "      <th>state</th>\n",
       "      <th>region</th>\n",
       "      <th>lat</th>\n",
       "      <th>lon</th>\n",
       "      <th>area_m2</th>\n",
       "      <th>price_usd</th>\n",
       "    </tr>\n",
       "  </thead>\n",
       "  <tbody>\n",
       "    <tr>\n",
       "      <th>0</th>\n",
       "      <td>apartment</td>\n",
       "      <td>Pernambuco</td>\n",
       "      <td>Northeast</td>\n",
       "      <td>-8.134204</td>\n",
       "      <td>-34.906326</td>\n",
       "      <td>72.0</td>\n",
       "      <td>129850.46</td>\n",
       "    </tr>\n",
       "    <tr>\n",
       "      <th>1</th>\n",
       "      <td>apartment</td>\n",
       "      <td>Pernambuco</td>\n",
       "      <td>Northeast</td>\n",
       "      <td>-8.126664</td>\n",
       "      <td>-34.903924</td>\n",
       "      <td>136.0</td>\n",
       "      <td>265958.79</td>\n",
       "    </tr>\n",
       "    <tr>\n",
       "      <th>2</th>\n",
       "      <td>apartment</td>\n",
       "      <td>Pernambuco</td>\n",
       "      <td>Northeast</td>\n",
       "      <td>-8.125550</td>\n",
       "      <td>-34.907601</td>\n",
       "      <td>75.0</td>\n",
       "      <td>93867.80</td>\n",
       "    </tr>\n",
       "    <tr>\n",
       "      <th>3</th>\n",
       "      <td>apartment</td>\n",
       "      <td>Pernambuco</td>\n",
       "      <td>Northeast</td>\n",
       "      <td>-8.120249</td>\n",
       "      <td>-34.895920</td>\n",
       "      <td>187.0</td>\n",
       "      <td>265958.79</td>\n",
       "    </tr>\n",
       "    <tr>\n",
       "      <th>4</th>\n",
       "      <td>apartment</td>\n",
       "      <td>Pernambuco</td>\n",
       "      <td>Northeast</td>\n",
       "      <td>-8.142666</td>\n",
       "      <td>-34.906906</td>\n",
       "      <td>80.0</td>\n",
       "      <td>145495.10</td>\n",
       "    </tr>\n",
       "  </tbody>\n",
       "</table>\n",
       "</div>"
      ]
     },
     "execution_count": 9,
     "metadata": {},
     "output_type": "execute_result"
    }
   ],
   "execution_count": 9
  },
  {
   "metadata": {
    "ExecuteTime": {
     "end_time": "2025-08-18T15:29:36.290368Z",
     "start_time": "2025-08-18T15:29:36.270221Z"
    }
   },
   "cell_type": "code",
   "source": [
    "df = pd.concat([df1, df2])\n",
    "print(\"df shape:\", df.shape)\n",
    "df.head()"
   ],
   "id": "f0acc740abb9b6a7",
   "outputs": [
    {
     "name": "stdout",
     "output_type": "stream",
     "text": [
      "df shape: (22844, 7)\n"
     ]
    },
    {
     "data": {
      "text/plain": [
       "  property_type     region  area_m2  price_usd       lat        lon state\n",
       "0     apartment  Northeast    110.0  187230.85 -9.644305 -35.708814   NaN\n",
       "1     apartment  Northeast     65.0   81133.37 -9.643093 -35.704840   NaN\n",
       "2         house  Northeast    211.0  154465.45 -9.622703 -35.729795   NaN\n",
       "3     apartment  Northeast     99.0  146013.20 -9.622837 -35.719556   NaN\n",
       "4     apartment  Northeast     55.0  101416.71 -9.654955 -35.700227   NaN"
      ],
      "text/html": [
       "<div>\n",
       "<style scoped>\n",
       "    .dataframe tbody tr th:only-of-type {\n",
       "        vertical-align: middle;\n",
       "    }\n",
       "\n",
       "    .dataframe tbody tr th {\n",
       "        vertical-align: top;\n",
       "    }\n",
       "\n",
       "    .dataframe thead th {\n",
       "        text-align: right;\n",
       "    }\n",
       "</style>\n",
       "<table border=\"1\" class=\"dataframe\">\n",
       "  <thead>\n",
       "    <tr style=\"text-align: right;\">\n",
       "      <th></th>\n",
       "      <th>property_type</th>\n",
       "      <th>region</th>\n",
       "      <th>area_m2</th>\n",
       "      <th>price_usd</th>\n",
       "      <th>lat</th>\n",
       "      <th>lon</th>\n",
       "      <th>state</th>\n",
       "    </tr>\n",
       "  </thead>\n",
       "  <tbody>\n",
       "    <tr>\n",
       "      <th>0</th>\n",
       "      <td>apartment</td>\n",
       "      <td>Northeast</td>\n",
       "      <td>110.0</td>\n",
       "      <td>187230.85</td>\n",
       "      <td>-9.644305</td>\n",
       "      <td>-35.708814</td>\n",
       "      <td>NaN</td>\n",
       "    </tr>\n",
       "    <tr>\n",
       "      <th>1</th>\n",
       "      <td>apartment</td>\n",
       "      <td>Northeast</td>\n",
       "      <td>65.0</td>\n",
       "      <td>81133.37</td>\n",
       "      <td>-9.643093</td>\n",
       "      <td>-35.704840</td>\n",
       "      <td>NaN</td>\n",
       "    </tr>\n",
       "    <tr>\n",
       "      <th>2</th>\n",
       "      <td>house</td>\n",
       "      <td>Northeast</td>\n",
       "      <td>211.0</td>\n",
       "      <td>154465.45</td>\n",
       "      <td>-9.622703</td>\n",
       "      <td>-35.729795</td>\n",
       "      <td>NaN</td>\n",
       "    </tr>\n",
       "    <tr>\n",
       "      <th>3</th>\n",
       "      <td>apartment</td>\n",
       "      <td>Northeast</td>\n",
       "      <td>99.0</td>\n",
       "      <td>146013.20</td>\n",
       "      <td>-9.622837</td>\n",
       "      <td>-35.719556</td>\n",
       "      <td>NaN</td>\n",
       "    </tr>\n",
       "    <tr>\n",
       "      <th>4</th>\n",
       "      <td>apartment</td>\n",
       "      <td>Northeast</td>\n",
       "      <td>55.0</td>\n",
       "      <td>101416.71</td>\n",
       "      <td>-9.654955</td>\n",
       "      <td>-35.700227</td>\n",
       "      <td>NaN</td>\n",
       "    </tr>\n",
       "  </tbody>\n",
       "</table>\n",
       "</div>"
      ]
     },
     "execution_count": 10,
     "metadata": {},
     "output_type": "execute_result"
    }
   ],
   "execution_count": 10
  },
  {
   "metadata": {
    "ExecuteTime": {
     "end_time": "2025-08-18T15:29:42.128677Z",
     "start_time": "2025-08-18T15:29:42.103265Z"
    }
   },
   "cell_type": "code",
   "source": [
    "# Statistical data summary\n",
    "summary_stats = df[[\"area_m2\", \"price_usd\"]].describe()\n",
    "summary_stats.head(10)"
   ],
   "id": "bcdb0a80ea1bd631",
   "outputs": [
    {
     "data": {
      "text/plain": [
       "            area_m2      price_usd\n",
       "count  22844.000000   22844.000000\n",
       "mean     115.020224  194987.315515\n",
       "std       47.742932  103617.682979\n",
       "min       53.000000   74892.340000\n",
       "25%       76.000000  113898.770000\n",
       "50%      103.000000  165697.555000\n",
       "75%      142.000000  246900.882500\n",
       "max      252.000000  525659.720000"
      ],
      "text/html": [
       "<div>\n",
       "<style scoped>\n",
       "    .dataframe tbody tr th:only-of-type {\n",
       "        vertical-align: middle;\n",
       "    }\n",
       "\n",
       "    .dataframe tbody tr th {\n",
       "        vertical-align: top;\n",
       "    }\n",
       "\n",
       "    .dataframe thead th {\n",
       "        text-align: right;\n",
       "    }\n",
       "</style>\n",
       "<table border=\"1\" class=\"dataframe\">\n",
       "  <thead>\n",
       "    <tr style=\"text-align: right;\">\n",
       "      <th></th>\n",
       "      <th>area_m2</th>\n",
       "      <th>price_usd</th>\n",
       "    </tr>\n",
       "  </thead>\n",
       "  <tbody>\n",
       "    <tr>\n",
       "      <th>count</th>\n",
       "      <td>22844.000000</td>\n",
       "      <td>22844.000000</td>\n",
       "    </tr>\n",
       "    <tr>\n",
       "      <th>mean</th>\n",
       "      <td>115.020224</td>\n",
       "      <td>194987.315515</td>\n",
       "    </tr>\n",
       "    <tr>\n",
       "      <th>std</th>\n",
       "      <td>47.742932</td>\n",
       "      <td>103617.682979</td>\n",
       "    </tr>\n",
       "    <tr>\n",
       "      <th>min</th>\n",
       "      <td>53.000000</td>\n",
       "      <td>74892.340000</td>\n",
       "    </tr>\n",
       "    <tr>\n",
       "      <th>25%</th>\n",
       "      <td>76.000000</td>\n",
       "      <td>113898.770000</td>\n",
       "    </tr>\n",
       "    <tr>\n",
       "      <th>50%</th>\n",
       "      <td>103.000000</td>\n",
       "      <td>165697.555000</td>\n",
       "    </tr>\n",
       "    <tr>\n",
       "      <th>75%</th>\n",
       "      <td>142.000000</td>\n",
       "      <td>246900.882500</td>\n",
       "    </tr>\n",
       "    <tr>\n",
       "      <th>max</th>\n",
       "      <td>252.000000</td>\n",
       "      <td>525659.720000</td>\n",
       "    </tr>\n",
       "  </tbody>\n",
       "</table>\n",
       "</div>"
      ]
     },
     "execution_count": 11,
     "metadata": {},
     "output_type": "execute_result"
    }
   ],
   "execution_count": 11
  },
  {
   "metadata": {
    "ExecuteTime": {
     "end_time": "2025-08-18T15:29:46.727357Z",
     "start_time": "2025-08-18T15:29:45.977492Z"
    }
   },
   "cell_type": "code",
   "source": [
    "\n",
    "fig, ax = plt.subplots()\n",
    "\n",
    "# Plot a histogram of the first 20,000 values in the \"price_usd\" column.\n",
    "# This is the key part that creates the bell-shaped curve.\n",
    "ax.hist(df[\"price_usd\"][:20000])\n",
    "\n",
    "# Set the x-axis label\n",
    "ax.set_xlabel(\"Price [USD]\")\n",
    "\n",
    "\n",
    "# Set the y-axis label\n",
    "ax.set_ylabel(\"Frequency\")\n",
    "\n",
    "# Set the title\n",
    "ax.set_title(\"Distribution of Home Prices\")\n",
    "\n",
    "# Display the plot\n",
    "plt.show()\n",
    "\n"
   ],
   "id": "93df96b5d530a0ea",
   "outputs": [
    {
     "data": {
      "text/plain": [
       "<Figure size 640x480 with 1 Axes>"
      ],
      "image/png": "[encoded data removed]"
     },
     "metadata": {},
     "output_type": "display_data"
    }
   ],
   "execution_count": 12
  },
  {
   "metadata": {
    "ExecuteTime": {
     "end_time": "2025-08-18T15:29:49.426701Z",
     "start_time": "2025-08-18T15:29:49.248556Z"
    }
   },
   "cell_type": "code",
   "source": [
    "\n",
    "fig, ax = plt.subplots()\n",
    "\n",
    "#Build box plot\n",
    "ax.boxplot(df[\"area_m2\"], vert=False)\n",
    "\n",
    "# Label x-axis\n",
    "ax.set_xlabel(\"Area [sq meters]\")\n",
    "\n",
    "# Add title\n",
    "ax.set_title(\"Distribution of Home Sizes\")"
   ],
   "id": "cd377f51571387ed",
   "outputs": [
    {
     "data": {
      "text/plain": [
       "Text(0.5, 1.0, 'Distribution of Home Sizes')"
      ]
     },
     "execution_count": 13,
     "metadata": {},
     "output_type": "execute_result"
    },
    {
     "data": {
      "text/plain": [
       "<Figure size 640x480 with 1 Axes>"
      ],
      "image/png": "[encoded data removed]"
     },
     "metadata": {},
     "output_type": "display_data"
    }
   ],
   "execution_count": 13
  },
  {
   "metadata": {
    "ExecuteTime": {
     "end_time": "2025-08-18T15:30:21.362719Z",
     "start_time": "2025-08-18T15:30:21.349249Z"
    }
   },
   "cell_type": "code",
   "source": [
    "# Grouping them\n",
    "mean_price_by_region = df.groupby(\"region\")[\"price_usd\"].mean().sort_values()\n",
    "mean_price_by_region"
   ],
   "id": "4502d4c822c74c3d",
   "outputs": [
    {
     "data": {
      "text/plain": [
       "region\n",
       "Central-West    178596.283663\n",
       "North           181308.958188\n",
       "Northeast       185422.985482\n",
       "South           189012.345360\n",
       "Southeast       208996.762761\n",
       "Name: price_usd, dtype: float64"
      ]
     },
     "execution_count": 15,
     "metadata": {},
     "output_type": "execute_result"
    }
   ],
   "execution_count": 15
  },
  {
   "metadata": {
    "ExecuteTime": {
     "end_time": "2025-08-18T15:30:42.955938Z",
     "start_time": "2025-08-18T15:30:42.500428Z"
    }
   },
   "cell_type": "code",
   "source": [
    "\n",
    "fig, ax = plt.subplots()\n",
    "\n",
    "# Build bar chart, label axes, add title\n",
    "mean_price_by_region.plot(\n",
    "    kind=\"bar\",\n",
    "    ax=ax,\n",
    "    xlabel=\"Region\",\n",
    "    ylabel=\"Mean Price [USD]\",\n",
    "    title=\"Mean Home Price by Region\"\n",
    ")"
   ],
   "id": "1e4de8e08f0f6a5c",
   "outputs": [
    {
     "data": {
      "text/plain": [
       "<Axes: title={'center': 'Mean Home Price by Region'}, xlabel='Region', ylabel='Mean Price [USD]'>"
      ]
     },
     "execution_count": 16,
     "metadata": {},
     "output_type": "execute_result"
    },
    {
     "data": {
      "text/plain": [
       "<Figure size 640x480 with 1 Axes>"
      ],
      "image/png": "[encoded data removed]"
     },
     "metadata": {},
     "output_type": "display_data"
    }
   ],
   "execution_count": 16
  },
  {
   "metadata": {
    "ExecuteTime": {
     "end_time": "2025-08-18T15:30:49.334233Z",
     "start_time": "2025-08-18T15:30:49.314097Z"
    }
   },
   "cell_type": "code",
   "source": [
    "df_south = df[df[\"region\"] == \"South\"]\n",
    "df_south.head()\n"
   ],
   "id": "ca68ce59386be2d7",
   "outputs": [
    {
     "data": {
      "text/plain": [
       "     property_type region  area_m2  price_usd        lat        lon state\n",
       "9304     apartment  South    127.0  296448.85 -25.455704 -49.292918   NaN\n",
       "9305     apartment  South    104.0  219996.25 -25.455704 -49.292918   NaN\n",
       "9306     apartment  South    100.0  194210.50 -25.460236 -49.293812   NaN\n",
       "9307     apartment  South     77.0  149252.94 -25.460236 -49.293812   NaN\n",
       "9308     apartment  South     73.0  144167.75 -25.460236 -49.293812   NaN"
      ],
      "text/html": [
       "<div>\n",
       "<style scoped>\n",
       "    .dataframe tbody tr th:only-of-type {\n",
       "        vertical-align: middle;\n",
       "    }\n",
       "\n",
       "    .dataframe tbody tr th {\n",
       "        vertical-align: top;\n",
       "    }\n",
       "\n",
       "    .dataframe thead th {\n",
       "        text-align: right;\n",
       "    }\n",
       "</style>\n",
       "<table border=\"1\" class=\"dataframe\">\n",
       "  <thead>\n",
       "    <tr style=\"text-align: right;\">\n",
       "      <th></th>\n",
       "      <th>property_type</th>\n",
       "      <th>region</th>\n",
       "      <th>area_m2</th>\n",
       "      <th>price_usd</th>\n",
       "      <th>lat</th>\n",
       "      <th>lon</th>\n",
       "      <th>state</th>\n",
       "    </tr>\n",
       "  </thead>\n",
       "  <tbody>\n",
       "    <tr>\n",
       "      <th>9304</th>\n",
       "      <td>apartment</td>\n",
       "      <td>South</td>\n",
       "      <td>127.0</td>\n",
       "      <td>296448.85</td>\n",
       "      <td>-25.455704</td>\n",
       "      <td>-49.292918</td>\n",
       "      <td>NaN</td>\n",
       "    </tr>\n",
       "    <tr>\n",
       "      <th>9305</th>\n",
       "      <td>apartment</td>\n",
       "      <td>South</td>\n",
       "      <td>104.0</td>\n",
       "      <td>219996.25</td>\n",
       "      <td>-25.455704</td>\n",
       "      <td>-49.292918</td>\n",
       "      <td>NaN</td>\n",
       "    </tr>\n",
       "    <tr>\n",
       "      <th>9306</th>\n",
       "      <td>apartment</td>\n",
       "      <td>South</td>\n",
       "      <td>100.0</td>\n",
       "      <td>194210.50</td>\n",
       "      <td>-25.460236</td>\n",
       "      <td>-49.293812</td>\n",
       "      <td>NaN</td>\n",
       "    </tr>\n",
       "    <tr>\n",
       "      <th>9307</th>\n",
       "      <td>apartment</td>\n",
       "      <td>South</td>\n",
       "      <td>77.0</td>\n",
       "      <td>149252.94</td>\n",
       "      <td>-25.460236</td>\n",
       "      <td>-49.293812</td>\n",
       "      <td>NaN</td>\n",
       "    </tr>\n",
       "    <tr>\n",
       "      <th>9308</th>\n",
       "      <td>apartment</td>\n",
       "      <td>South</td>\n",
       "      <td>73.0</td>\n",
       "      <td>144167.75</td>\n",
       "      <td>-25.460236</td>\n",
       "      <td>-49.293812</td>\n",
       "      <td>NaN</td>\n",
       "    </tr>\n",
       "  </tbody>\n",
       "</table>\n",
       "</div>"
      ]
     },
     "execution_count": 17,
     "metadata": {},
     "output_type": "execute_result"
    }
   ],
   "execution_count": 17
  },
  {
   "metadata": {
    "ExecuteTime": {
     "end_time": "2025-08-15T10:54:08.599263Z",
     "start_time": "2025-08-15T10:54:08.589760Z"
    }
   },
   "cell_type": "code",
   "source": [
    "homes_by_state = df_south[\"state\"].value_counts()\n",
    "homes_by_state"
   ],
   "id": "fecf7d426f436d79",
   "outputs": [
    {
     "data": {
      "text/plain": [
       "state\n",
       "Rio Grande do Sul    2643\n",
       "Santa Catarina       2634\n",
       "Paraná               2544\n",
       "Name: count, dtype: int64"
      ]
     },
     "execution_count": 18,
     "metadata": {},
     "output_type": "execute_result"
    }
   ],
   "execution_count": 18
  },
  {
   "metadata": {
    "ExecuteTime": {
     "end_time": "2025-08-18T15:30:56.194010Z",
     "start_time": "2025-08-18T15:30:55.676653Z"
    }
   },
   "cell_type": "code",
   "source": [
    "# Find the name of the state with the most properties\n",
    "top_state = df_south[\"state\"].value_counts().idxmax()\n",
    "\n",
    "# Subset data to include only properties from that state\n",
    "df_south_rgs = df_south[df_south[\"state\"] == top_state]\n",
    "\n",
    "# Don't change the code below 👇\n",
    "fig, ax = plt.subplots()\n",
    "\n",
    "# Build scatter plot\n",
    "ax.scatter(x=df_south_rgs[\"area_m2\"], y=df_south_rgs[\"price_usd\"])\n",
    "\n",
    "# Label axes\n",
    "ax.set_xlabel(\"Area [sq meters]\")\n",
    "ax.set_ylabel(\"Price [USD]\")\n",
    "\n",
    "# Add title using the name of the top state\n",
    "ax.set_title(f\"{top_state}: Price vs. Area\")\n",
    "\n",
    "# Show the plot\n",
    "plt.show()"
   ],
   "id": "a21839e64ebcf671",
   "outputs": [
    {
     "data": {
      "text/plain": [
       "<Figure size 640x480 with 1 Axes>"
      ],
      "image/png": "[encoded data removed]"
     },
     "metadata": {},
     "output_type": "display_data"
    }
   ],
   "execution_count": 18
  },
  {
   "metadata": {
    "ExecuteTime": {
     "end_time": "2025-08-18T15:31:02.330646Z",
     "start_time": "2025-08-18T15:31:02.155016Z"
    }
   },
   "cell_type": "code",
   "source": [
    "# Create dictionary with states and their correlation coefficients\n",
    "south_states_corr = {\n",
    "    state: df_south[df_south[\"state\"] == state][\"area_m2\"].corr(df_south[df_south[\"state\"] == state][\"price_usd\"])\n",
    "    for state in df_south[\"state\"].unique()\n",
    "}\n",
    "\n",
    "# Display the final dictionary\n",
    "south_states_corr"
   ],
   "id": "f8d318befd8e9f21",
   "outputs": [
    {
     "data": {
      "text/plain": [
       "{nan: nan,\n",
       " 'Rio Grande do Sul': 0.5773267433871903,\n",
       " 'Santa Catarina': 0.5068121769989854}"
      ]
     },
     "execution_count": 19,
     "metadata": {},
     "output_type": "execute_result"
    }
   ],
   "execution_count": 19
  },
  {
   "metadata": {
    "ExecuteTime": {
     "end_time": "2025-08-18T15:31:12.646948Z",
     "start_time": "2025-08-18T15:31:12.640011Z"
    }
   },
   "cell_type": "code",
   "source": "",
   "id": "f20d4332c5c0d2fc",
   "outputs": [],
   "execution_count": null
  },
  {
   "metadata": {},
   "cell_type": "code",
   "outputs": [],
   "execution_count": null,
   "source": "",
   "id": "4911059514f2e22e"
  }
 ],
 "metadata": {
  "kernelspec": {
   "display_name": "Python 3",
   "language": "python",
   "name": "python3"
  },
  "language_info": {
   "codemirror_mode": {
    "name": "ipython",
    "version": 2
   },
   "file_extension": ".py",
   "mimetype": "text/x-python",
   "name": "python",
   "nbconvert_exporter": "python",
   "pygments_lexer": "ipython2",
   "version": "2.7.6"
  }
 },
 "nbformat": 4,
 "nbformat_minor": 5
}
