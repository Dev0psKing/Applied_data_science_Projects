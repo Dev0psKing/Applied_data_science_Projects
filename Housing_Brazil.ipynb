{
 "cells": [
  {
   "metadata": {
    "ExecuteTime": {
     "end_time": "2025-08-02T17:32:23.311348Z",
     "start_time": "2025-08-02T17:32:19.574967Z"
    }
   },
   "cell_type": "code",
   "source": [
    "import pandas as pd\n",
    "import matplotlib.pyplot as plt\n"
   ],
   "id": "49c2c1c81893b3a9",
   "outputs": [],
   "execution_count": 2
  },
  {
   "metadata": {
    "ExecuteTime": {
     "end_time": "2025-08-02T17:32:27.718967Z",
     "start_time": "2025-08-02T17:32:27.576212Z"
    }
   },
   "cell_type": "code",
   "source": [
    "# Full path to the CSV\n",
    "file_path = '/home/uwabor/Downloads/housing_brazil_1.csv'\n",
    "\n",
    "# Read the file\n",
    "df = pd.read_csv(file_path)\n",
    "\n",
    "# View the first few rows\n",
    "print(df.head())\n"
   ],
   "id": "f8fdf6a41a6d329e",
   "outputs": [
    {
     "name": "stdout",
     "output_type": "stream",
     "text": [
      "  property_type       state     region       lat        lon  area_m2  \\\n",
      "0     apartment  Pernambuco  Northeast -8.134204 -34.906326     72.0   \n",
      "1     apartment  Pernambuco  Northeast -8.126664 -34.903924    136.0   \n",
      "2     apartment  Pernambuco  Northeast -8.125550 -34.907601     75.0   \n",
      "3     apartment  Pernambuco  Northeast -8.120249 -34.895920    187.0   \n",
      "4     apartment  Pernambuco  Northeast -8.142666 -34.906906     80.0   \n",
      "\n",
      "   price_brl  \n",
      "0  414222.98  \n",
      "1  848408.53  \n",
      "2  299438.28  \n",
      "3  848408.53  \n",
      "4  464129.36  \n"
     ]
    }
   ],
   "execution_count": 3
  },
  {
   "metadata": {},
   "cell_type": "code",
   "outputs": [],
   "execution_count": null,
   "source": "",
   "id": "623d908fecf16a69"
  }
 ],
 "metadata": {
  "kernelspec": {
   "display_name": "Python 3",
   "language": "python",
   "name": "python3"
  },
  "language_info": {
   "codemirror_mode": {
    "name": "ipython",
    "version": 2
   },
   "file_extension": ".py",
   "mimetype": "text/x-python",
   "name": "python",
   "nbconvert_exporter": "python",
   "pygments_lexer": "ipython2",
   "version": "2.7.6"
  }
 },
 "nbformat": 4,
 "nbformat_minor": 5
}
